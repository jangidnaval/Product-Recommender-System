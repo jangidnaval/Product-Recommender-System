{
 "cells": [
  {
   "cell_type": "code",
   "execution_count": 38,
   "metadata": {
    "collapsed": true
   },
   "outputs": [],
   "source": [
    "%matplotlib inline\n",
    "\n",
    "import numpy as np\n",
    "import pandas as pd\n",
    "import seaborn as sns\n",
    "import matplotlib.pyplot as plt\n",
    "import nltk\n",
    "import math\n",
    "\n",
    "from sklearn.neighbors import NearestNeighbors\n",
    "\n",
    "from sklearn import neighbors\n",
    "from scipy.spatial.distance import cosine\n",
    "\n",
    "from sklearn.metrics import classification_report\n",
    "from sklearn.metrics import accuracy_score\n",
    "\n",
    "from sklearn.feature_selection import SelectKBest\n",
    "from sklearn.feature_extraction.text import CountVectorizer, TfidfTransformer\n",
    "import re\n",
    "\n",
    "import string\n",
    "#from wordcloud import WordCloud, STOPWORDS\n",
    "from sklearn.metrics import mean_squared_error"
   ]
  },
  {
   "cell_type": "code",
   "execution_count": 2,
   "metadata": {
    "collapsed": true
   },
   "outputs": [],
   "source": [
    "df=pd.read_csv('../csv/rating_only.csv');"
   ]
  },
  {
   "cell_type": "code",
   "execution_count": 3,
   "metadata": {},
   "outputs": [
    {
     "data": {
      "text/html": [
       "<div>\n",
       "<style>\n",
       "    .dataframe thead tr:only-child th {\n",
       "        text-align: right;\n",
       "    }\n",
       "\n",
       "    .dataframe thead th {\n",
       "        text-align: left;\n",
       "    }\n",
       "\n",
       "    .dataframe tbody tr th {\n",
       "        vertical-align: top;\n",
       "    }\n",
       "</style>\n",
       "<table border=\"1\" class=\"dataframe\">\n",
       "  <thead>\n",
       "    <tr style=\"text-align: right;\">\n",
       "      <th></th>\n",
       "      <th>asin</th>\n",
       "      <th>reviewerID</th>\n",
       "      <th>overall</th>\n",
       "    </tr>\n",
       "  </thead>\n",
       "  <tbody>\n",
       "    <tr>\n",
       "      <th>0</th>\n",
       "      <td>159985130X</td>\n",
       "      <td>ALC5GH8CAMAI7</td>\n",
       "      <td>5</td>\n",
       "    </tr>\n",
       "    <tr>\n",
       "      <th>1</th>\n",
       "      <td>159985130X</td>\n",
       "      <td>AHKSURW85PJUE</td>\n",
       "      <td>4</td>\n",
       "    </tr>\n",
       "    <tr>\n",
       "      <th>2</th>\n",
       "      <td>159985130X</td>\n",
       "      <td>A38RMU1Y5TDP9</td>\n",
       "      <td>4</td>\n",
       "    </tr>\n",
       "    <tr>\n",
       "      <th>3</th>\n",
       "      <td>159985130X</td>\n",
       "      <td>A1XZUG7DFXXOS4</td>\n",
       "      <td>4</td>\n",
       "    </tr>\n",
       "    <tr>\n",
       "      <th>4</th>\n",
       "      <td>159985130X</td>\n",
       "      <td>A1MS3M7M7AM13X</td>\n",
       "      <td>5</td>\n",
       "    </tr>\n",
       "  </tbody>\n",
       "</table>\n",
       "</div>"
      ],
      "text/plain": [
       "         asin      reviewerID  overall\n",
       "0  159985130X   ALC5GH8CAMAI7        5\n",
       "1  159985130X   AHKSURW85PJUE        4\n",
       "2  159985130X   A38RMU1Y5TDP9        4\n",
       "3  159985130X  A1XZUG7DFXXOS4        4\n",
       "4  159985130X  A1MS3M7M7AM13X        5"
      ]
     },
     "execution_count": 3,
     "metadata": {},
     "output_type": "execute_result"
    }
   ],
   "source": [
    "df.head()"
   ]
  },
  {
   "cell_type": "code",
   "execution_count": 4,
   "metadata": {},
   "outputs": [
    {
     "data": {
      "text/html": [
       "<div>\n",
       "<style>\n",
       "    .dataframe thead tr:only-child th {\n",
       "        text-align: right;\n",
       "    }\n",
       "\n",
       "    .dataframe thead th {\n",
       "        text-align: left;\n",
       "    }\n",
       "\n",
       "    .dataframe tbody tr th {\n",
       "        vertical-align: top;\n",
       "    }\n",
       "</style>\n",
       "<table border=\"1\" class=\"dataframe\">\n",
       "  <thead>\n",
       "    <tr style=\"text-align: right;\">\n",
       "      <th></th>\n",
       "      <th>overall</th>\n",
       "    </tr>\n",
       "  </thead>\n",
       "  <tbody>\n",
       "    <tr>\n",
       "      <th>count</th>\n",
       "      <td>346355.000000</td>\n",
       "    </tr>\n",
       "    <tr>\n",
       "      <th>mean</th>\n",
       "      <td>4.274958</td>\n",
       "    </tr>\n",
       "    <tr>\n",
       "      <th>std</th>\n",
       "      <td>1.120213</td>\n",
       "    </tr>\n",
       "    <tr>\n",
       "      <th>min</th>\n",
       "      <td>1.000000</td>\n",
       "    </tr>\n",
       "    <tr>\n",
       "      <th>25%</th>\n",
       "      <td>4.000000</td>\n",
       "    </tr>\n",
       "    <tr>\n",
       "      <th>50%</th>\n",
       "      <td>5.000000</td>\n",
       "    </tr>\n",
       "    <tr>\n",
       "      <th>75%</th>\n",
       "      <td>5.000000</td>\n",
       "    </tr>\n",
       "    <tr>\n",
       "      <th>max</th>\n",
       "      <td>5.000000</td>\n",
       "    </tr>\n",
       "  </tbody>\n",
       "</table>\n",
       "</div>"
      ],
      "text/plain": [
       "             overall\n",
       "count  346355.000000\n",
       "mean        4.274958\n",
       "std         1.120213\n",
       "min         1.000000\n",
       "25%         4.000000\n",
       "50%         5.000000\n",
       "75%         5.000000\n",
       "max         5.000000"
      ]
     },
     "execution_count": 4,
     "metadata": {},
     "output_type": "execute_result"
    }
   ],
   "source": [
    "df.describe()"
   ]
  },
  {
   "cell_type": "code",
   "execution_count": 5,
   "metadata": {},
   "outputs": [
    {
     "data": {
      "text/html": [
       "<div>\n",
       "<style>\n",
       "    .dataframe thead tr:only-child th {\n",
       "        text-align: right;\n",
       "    }\n",
       "\n",
       "    .dataframe thead th {\n",
       "        text-align: left;\n",
       "    }\n",
       "\n",
       "    .dataframe tbody tr th {\n",
       "        vertical-align: top;\n",
       "    }\n",
       "</style>\n",
       "<table border=\"1\" class=\"dataframe\">\n",
       "  <thead>\n",
       "    <tr style=\"text-align: right;\">\n",
       "      <th></th>\n",
       "      <th>asin</th>\n",
       "      <th>reviewerID</th>\n",
       "      <th>overall</th>\n",
       "    </tr>\n",
       "  </thead>\n",
       "  <tbody>\n",
       "    <tr>\n",
       "      <th>75860</th>\n",
       "      <td>B000PBZ5TA</td>\n",
       "      <td>A4VMN59AIEBD1</td>\n",
       "      <td>1</td>\n",
       "    </tr>\n",
       "    <tr>\n",
       "      <th>124103</th>\n",
       "      <td>B001DKWLDK</td>\n",
       "      <td>A2QUIKD5CVFE49</td>\n",
       "      <td>1</td>\n",
       "    </tr>\n",
       "    <tr>\n",
       "      <th>20280</th>\n",
       "      <td>B00028MKRQ</td>\n",
       "      <td>A9LWDP1HECAU0</td>\n",
       "      <td>1</td>\n",
       "    </tr>\n",
       "    <tr>\n",
       "      <th>124102</th>\n",
       "      <td>B001DKWLDK</td>\n",
       "      <td>AEAFHD09X8044</td>\n",
       "      <td>1</td>\n",
       "    </tr>\n",
       "    <tr>\n",
       "      <th>124100</th>\n",
       "      <td>B001DKWLDK</td>\n",
       "      <td>A21K28EQ023UUU</td>\n",
       "      <td>1</td>\n",
       "    </tr>\n",
       "  </tbody>\n",
       "</table>\n",
       "</div>"
      ],
      "text/plain": [
       "              asin      reviewerID  overall\n",
       "75860   B000PBZ5TA   A4VMN59AIEBD1        1\n",
       "124103  B001DKWLDK  A2QUIKD5CVFE49        1\n",
       "20280   B00028MKRQ   A9LWDP1HECAU0        1\n",
       "124102  B001DKWLDK   AEAFHD09X8044        1\n",
       "124100  B001DKWLDK  A21K28EQ023UUU        1"
      ]
     },
     "execution_count": 5,
     "metadata": {},
     "output_type": "execute_result"
    }
   ],
   "source": [
    "df.sort_values('overall').head()"
   ]
  },
  {
   "cell_type": "code",
   "execution_count": 6,
   "metadata": {},
   "outputs": [
    {
     "data": {
      "text/html": [
       "<div>\n",
       "<style>\n",
       "    .dataframe thead tr:only-child th {\n",
       "        text-align: right;\n",
       "    }\n",
       "\n",
       "    .dataframe thead th {\n",
       "        text-align: left;\n",
       "    }\n",
       "\n",
       "    .dataframe tbody tr th {\n",
       "        vertical-align: top;\n",
       "    }\n",
       "</style>\n",
       "<table border=\"1\" class=\"dataframe\">\n",
       "  <thead>\n",
       "    <tr style=\"text-align: right;\">\n",
       "      <th></th>\n",
       "      <th>asin</th>\n",
       "      <th>reviewerID</th>\n",
       "    </tr>\n",
       "    <tr>\n",
       "      <th>overall</th>\n",
       "      <th></th>\n",
       "      <th></th>\n",
       "    </tr>\n",
       "  </thead>\n",
       "  <tbody>\n",
       "    <tr>\n",
       "      <th>1</th>\n",
       "      <td>16546</td>\n",
       "      <td>16546</td>\n",
       "    </tr>\n",
       "    <tr>\n",
       "      <th>2</th>\n",
       "      <td>16754</td>\n",
       "      <td>16754</td>\n",
       "    </tr>\n",
       "    <tr>\n",
       "      <th>3</th>\n",
       "      <td>33254</td>\n",
       "      <td>33254</td>\n",
       "    </tr>\n",
       "    <tr>\n",
       "      <th>4</th>\n",
       "      <td>68168</td>\n",
       "      <td>68168</td>\n",
       "    </tr>\n",
       "    <tr>\n",
       "      <th>5</th>\n",
       "      <td>211633</td>\n",
       "      <td>211633</td>\n",
       "    </tr>\n",
       "  </tbody>\n",
       "</table>\n",
       "</div>"
      ],
      "text/plain": [
       "           asin  reviewerID\n",
       "overall                    \n",
       "1         16546       16546\n",
       "2         16754       16754\n",
       "3         33254       33254\n",
       "4         68168       68168\n",
       "5        211633      211633"
      ]
     },
     "execution_count": 6,
     "metadata": {},
     "output_type": "execute_result"
    }
   ],
   "source": [
    "df.groupby('overall').count()"
   ]
  },
  {
   "cell_type": "code",
   "execution_count": 7,
   "metadata": {},
   "outputs": [
    {
     "name": "stdout",
     "output_type": "stream",
     "text": [
      "total size  346355\n"
     ]
    }
   ],
   "source": [
    "print(\"total size \",df.index.size)"
   ]
  },
  {
   "cell_type": "code",
   "execution_count": 8,
   "metadata": {},
   "outputs": [
    {
     "data": {
      "text/html": [
       "<div>\n",
       "<style>\n",
       "    .dataframe thead tr:only-child th {\n",
       "        text-align: right;\n",
       "    }\n",
       "\n",
       "    .dataframe thead th {\n",
       "        text-align: left;\n",
       "    }\n",
       "\n",
       "    .dataframe tbody tr th {\n",
       "        vertical-align: top;\n",
       "    }\n",
       "</style>\n",
       "<table border=\"1\" class=\"dataframe\">\n",
       "  <thead>\n",
       "    <tr style=\"text-align: right;\">\n",
       "      <th></th>\n",
       "      <th>asin</th>\n",
       "      <th>reviewerID</th>\n",
       "    </tr>\n",
       "    <tr>\n",
       "      <th>overall</th>\n",
       "      <th></th>\n",
       "      <th></th>\n",
       "    </tr>\n",
       "  </thead>\n",
       "  <tbody>\n",
       "    <tr>\n",
       "      <th>1</th>\n",
       "      <td>16546</td>\n",
       "      <td>16546</td>\n",
       "    </tr>\n",
       "    <tr>\n",
       "      <th>2</th>\n",
       "      <td>16754</td>\n",
       "      <td>16754</td>\n",
       "    </tr>\n",
       "    <tr>\n",
       "      <th>3</th>\n",
       "      <td>33254</td>\n",
       "      <td>33254</td>\n",
       "    </tr>\n",
       "    <tr>\n",
       "      <th>4</th>\n",
       "      <td>68168</td>\n",
       "      <td>68168</td>\n",
       "    </tr>\n",
       "    <tr>\n",
       "      <th>5</th>\n",
       "      <td>211633</td>\n",
       "      <td>211633</td>\n",
       "    </tr>\n",
       "  </tbody>\n",
       "</table>\n",
       "</div>"
      ],
      "text/plain": [
       "           asin  reviewerID\n",
       "overall                    \n",
       "1         16546       16546\n",
       "2         16754       16754\n",
       "3         33254       33254\n",
       "4         68168       68168\n",
       "5        211633      211633"
      ]
     },
     "execution_count": 8,
     "metadata": {},
     "output_type": "execute_result"
    }
   ],
   "source": [
    "df.groupby('overall').count()"
   ]
  },
  {
   "cell_type": "code",
   "execution_count": 9,
   "metadata": {},
   "outputs": [
    {
     "name": "stdout",
     "output_type": "stream",
     "text": [
      "38609\n"
     ]
    }
   ],
   "source": [
    "#total users....\n",
    "total_u=df['reviewerID'].unique().size\n",
    "print(total_u)"
   ]
  },
  {
   "cell_type": "code",
   "execution_count": null,
   "metadata": {
    "collapsed": true
   },
   "outputs": [],
   "source": []
  },
  {
   "cell_type": "code",
   "execution_count": 10,
   "metadata": {},
   "outputs": [
    {
     "name": "stdout",
     "output_type": "stream",
     "text": [
      "18534\n"
     ]
    }
   ],
   "source": [
    "#total products ....\n",
    "total_p=df['asin'].unique().size\n",
    "print(total_p)"
   ]
  },
  {
   "cell_type": "code",
   "execution_count": 11,
   "metadata": {},
   "outputs": [
    {
     "data": {
      "text/plain": [
       "38.349944313502036"
      ]
     },
     "execution_count": 11,
     "metadata": {},
     "output_type": "execute_result"
    }
   ],
   "source": [
    "#avg total rating per user \n",
    "df['overall'].sum()/total_u"
   ]
  },
  {
   "cell_type": "code",
   "execution_count": null,
   "metadata": {
    "collapsed": true
   },
   "outputs": [],
   "source": []
  },
  {
   "cell_type": "code",
   "execution_count": null,
   "metadata": {
    "collapsed": true
   },
   "outputs": [],
   "source": []
  },
  {
   "cell_type": "code",
   "execution_count": 12,
   "metadata": {},
   "outputs": [
    {
     "data": {
      "text/plain": [
       "79.88847523470379"
      ]
     },
     "execution_count": 12,
     "metadata": {},
     "output_type": "execute_result"
    }
   ],
   "source": [
    "#avg total rating per item \n",
    "df['overall'].sum()/total_p"
   ]
  },
  {
   "cell_type": "code",
   "execution_count": 13,
   "metadata": {
    "collapsed": true
   },
   "outputs": [],
   "source": [
    "#product rated by per user\n",
    "#df.groupby('reviewerID')['overall'].count().sort_values()"
   ]
  },
  {
   "cell_type": "markdown",
   "metadata": {},
   "source": [
    "#  euclidean similarity"
   ]
  },
  {
   "cell_type": "code",
   "execution_count": 14,
   "metadata": {},
   "outputs": [
    {
     "data": {
      "text/html": [
       "<div>\n",
       "<style>\n",
       "    .dataframe thead tr:only-child th {\n",
       "        text-align: right;\n",
       "    }\n",
       "\n",
       "    .dataframe thead th {\n",
       "        text-align: left;\n",
       "    }\n",
       "\n",
       "    .dataframe tbody tr th {\n",
       "        vertical-align: top;\n",
       "    }\n",
       "</style>\n",
       "<table border=\"1\" class=\"dataframe\">\n",
       "  <thead>\n",
       "    <tr style=\"text-align: right;\">\n",
       "      <th></th>\n",
       "      <th>asin</th>\n",
       "      <th>reviewerID</th>\n",
       "      <th>overall</th>\n",
       "    </tr>\n",
       "  </thead>\n",
       "  <tbody>\n",
       "    <tr>\n",
       "      <th>0</th>\n",
       "      <td>159985130X</td>\n",
       "      <td>ALC5GH8CAMAI7</td>\n",
       "      <td>5</td>\n",
       "    </tr>\n",
       "    <tr>\n",
       "      <th>67549</th>\n",
       "      <td>B000LQV6HY</td>\n",
       "      <td>ALC5GH8CAMAI7</td>\n",
       "      <td>1</td>\n",
       "    </tr>\n",
       "    <tr>\n",
       "      <th>73107</th>\n",
       "      <td>B000NZKHKU</td>\n",
       "      <td>ALC5GH8CAMAI7</td>\n",
       "      <td>5</td>\n",
       "    </tr>\n",
       "    <tr>\n",
       "      <th>101342</th>\n",
       "      <td>B0013OSM0M</td>\n",
       "      <td>ALC5GH8CAMAI7</td>\n",
       "      <td>5</td>\n",
       "    </tr>\n",
       "    <tr>\n",
       "      <th>101404</th>\n",
       "      <td>B0013OSN6A</td>\n",
       "      <td>ALC5GH8CAMAI7</td>\n",
       "      <td>1</td>\n",
       "    </tr>\n",
       "    <tr>\n",
       "      <th>105435</th>\n",
       "      <td>B0013UU9WK</td>\n",
       "      <td>ALC5GH8CAMAI7</td>\n",
       "      <td>5</td>\n",
       "    </tr>\n",
       "    <tr>\n",
       "      <th>162430</th>\n",
       "      <td>B002BYI53C</td>\n",
       "      <td>ALC5GH8CAMAI7</td>\n",
       "      <td>5</td>\n",
       "    </tr>\n",
       "  </tbody>\n",
       "</table>\n",
       "</div>"
      ],
      "text/plain": [
       "              asin     reviewerID  overall\n",
       "0       159985130X  ALC5GH8CAMAI7        5\n",
       "67549   B000LQV6HY  ALC5GH8CAMAI7        1\n",
       "73107   B000NZKHKU  ALC5GH8CAMAI7        5\n",
       "101342  B0013OSM0M  ALC5GH8CAMAI7        5\n",
       "101404  B0013OSN6A  ALC5GH8CAMAI7        1\n",
       "105435  B0013UU9WK  ALC5GH8CAMAI7        5\n",
       "162430  B002BYI53C  ALC5GH8CAMAI7        5"
      ]
     },
     "execution_count": 14,
     "metadata": {},
     "output_type": "execute_result"
    }
   ],
   "source": [
    "df[df['reviewerID']=='ALC5GH8CAMAI7']"
   ]
  },
  {
   "cell_type": "code",
   "execution_count": 15,
   "metadata": {
    "collapsed": true
   },
   "outputs": [],
   "source": [
    "def euc_sim(df,u1,u2):\n",
    "    products_u1=df[df['reviewerID']==u1]\n",
    "    products_u2=df[df['reviewerID']==u2]\n",
    "    \n",
    "    comman=pd.merge(products_u1,products_u2,how='inner',on='asin')\n",
    "    print(comman)\n",
    "    \n",
    "    if comman.index.size==0:\n",
    "        return 0\n",
    "    \n",
    "    total=((comman.overall_x-comman.overall_y)**2).values.sum()\n",
    "    #print(\"Euclidean similarity......\",1/(1+total))\n",
    "    \n",
    "    # sim-->1 is perfect similar....     sim-->0 not similar......\n",
    "    return 1/(1+total)\n",
    "  \n",
    "\n",
    "def pearson_corr(df,u1,u2):\n",
    "    products_u1=df[df['reviewerID']==u1]\n",
    "    products_u2=df[df['reviewerID']==u2]\n",
    "    \n",
    "    comman=pd.merge(products_u1,products_u2,how='inner',on='asin')\n",
    "    #print(comman)\n",
    "\n",
    "    if comman.index.size==0:\n",
    "        return 0\n",
    "    \n",
    "    avg1=products_u1.overall.sum()/products_u1.index.size\n",
    "    avg2=products_u2.overall.sum()/products_u2.index.size\n",
    "    \n",
    "    t1=comman['overall_x']-avg1\n",
    "    t2=comman['overall_y']-avg2\n",
    "    \n",
    "    #print(t1)\n",
    "    #print(t2)\n",
    "    #print(t1.multiply(t2))\n",
    "    \n",
    "    s1=sum(t1.multiply(t2))\n",
    "    #print(s1)\n",
    "    if s1==0:\n",
    "        return 0\n",
    "    \n",
    "    \n",
    "    #pearson relation range b/w -1 to 1 . \n",
    "    #-1 indicate perfectly negative linear relationship...\n",
    "    # 0 indicates no linear relationship ....\n",
    "    #+1 indicate perfectly positive linear relationship...\n",
    "    \n",
    "    cor=s1/(((sum(t1**2))**.5) * ((sum(t2**2))**.5))\n",
    "    #print(\"pearson_correlation is  \",cor)\n",
    "    return cor\n",
    "    \n",
    "    \n",
    "    # corr by inbuild formula.....\n",
    "    #x=comman['rating_x'].corr(comman['rating_y'],method='pearson')\n",
    "    #print(x)\n",
    "    #return comman['rating_x'].corr(comman['rating_y'],method='pearson')\n"
   ]
  },
  {
   "cell_type": "code",
   "execution_count": 47,
   "metadata": {},
   "outputs": [
    {
     "name": "stdout",
     "output_type": "stream",
     "text": [
      "         asin    reviewerID_x  overall_x   reviewerID_y  overall_y\n",
      "0  B009TAKESK  A32T585IZ0DJX2          5  ACKL6OEZEOL45          5\n",
      "1  B00LIASY0Y  A32T585IZ0DJX2          3  ACKL6OEZEOL45          5\n"
     ]
    },
    {
     "data": {
      "text/plain": [
       "0.20000000000000001"
      ]
     },
     "execution_count": 47,
     "metadata": {},
     "output_type": "execute_result"
    }
   ],
   "source": [
    "euc_sim(df,'A32T585IZ0DJX2','ACKL6OEZEOL45')"
   ]
  },
  {
   "cell_type": "code",
   "execution_count": null,
   "metadata": {
    "collapsed": true
   },
   "outputs": [],
   "source": []
  },
  {
   "cell_type": "code",
   "execution_count": 45,
   "metadata": {
    "collapsed": true
   },
   "outputs": [],
   "source": []
  },
  {
   "cell_type": "code",
   "execution_count": null,
   "metadata": {
    "collapsed": true
   },
   "outputs": [],
   "source": []
  },
  {
   "cell_type": "code",
   "execution_count": 48,
   "metadata": {
    "collapsed": true
   },
   "outputs": [],
   "source": [
    "def my_average(df,user): \n",
    "    temp = df[df['reviewerID']==user].overall\n",
    "    avg = temp.sum()/temp.count()\n",
    "    return avg\n"
   ]
  },
  {
   "cell_type": "code",
   "execution_count": 56,
   "metadata": {
    "collapsed": true
   },
   "outputs": [],
   "source": [
    "#calculating  rating od a product  based on similarity with other users....\n",
    "def calculate_rating(df,user,product):\n",
    "    # calculate the predicted rating for a product\n",
    "    numerator = 0\n",
    "    denominator = 0\n",
    "    cnt = 0\n",
    "    for user2 in df['reviewerID'].drop_duplicates():\n",
    "        rate_v_i_series = df.loc[(df['reviewerID']==user2) & (df['asin']==product)].overall # rating given by user2 to product\n",
    "        if(rate_v_i_series.empty): # user has not rated the product\n",
    "            continue\n",
    "        cnt += 1\n",
    "        rate_v_i = rate_v_i_series.iloc[0]\n",
    "        \n",
    "        avg_v = my_average(df,user2) # average rating given by user2\n",
    "        \n",
    "        weight = pearson_corr(df,user, user2) # Pearson correlation between user and user2\n",
    "        \n",
    "        numerator += (rate_v_i - avg_v)*weight\n",
    "        \n",
    "        denominator += weight\n",
    "    \n",
    "    rating_i = numerator/denominator + my_average(df,user) # Predicted rating of movie i \n",
    "    return rating_i\n"
   ]
  },
  {
   "cell_type": "code",
   "execution_count": null,
   "metadata": {
    "collapsed": true
   },
   "outputs": [],
   "source": []
  },
  {
   "cell_type": "code",
   "execution_count": 33,
   "metadata": {
    "collapsed": true
   },
   "outputs": [],
   "source": [
    "from sklearn.model_selection import train_test_split"
   ]
  },
  {
   "cell_type": "code",
   "execution_count": 34,
   "metadata": {
    "collapsed": true
   },
   "outputs": [],
   "source": [
    "train,test =train_test_split(df)"
   ]
  },
  {
   "cell_type": "code",
   "execution_count": 35,
   "metadata": {},
   "outputs": [
    {
     "data": {
      "text/plain": [
       "86589"
      ]
     },
     "execution_count": 35,
     "metadata": {},
     "output_type": "execute_result"
    }
   ],
   "source": [
    "test.index.size"
   ]
  },
  {
   "cell_type": "code",
   "execution_count": 36,
   "metadata": {
    "collapsed": true
   },
   "outputs": [],
   "source": [
    "# function for finding root mean square error\n",
    "def find_error(df):\n",
    "   \n",
    "    error = 0\n",
    "    for index, row in df.iterrows():\n",
    "        \n",
    "        value = calculate_rating(df,row['reviewerID'], row['asin'])\n",
    "        error += (value - row['overall'])**2\n",
    "        if index>2 :\n",
    "            break;\n",
    "        print(index)\n",
    "    # Mean square error\n",
    "    error = error/df.shape[0]\n",
    "    # root mean square error\n",
    "    return math.sqrt(error)"
   ]
  },
  {
   "cell_type": "code",
   "execution_count": 40,
   "metadata": {
    "collapsed": true
   },
   "outputs": [],
   "source": [
    "#print(\"MSE is ..............\",find_error(test[0:1]));"
   ]
  },
  {
   "cell_type": "code",
   "execution_count": 11,
   "metadata": {
    "collapsed": true
   },
   "outputs": [],
   "source": []
  },
  {
   "cell_type": "code",
   "execution_count": null,
   "metadata": {
    "collapsed": true
   },
   "outputs": [],
   "source": []
  },
  {
   "cell_type": "code",
   "execution_count": 57,
   "metadata": {
    "collapsed": true
   },
   "outputs": [],
   "source": [
    "x=test[0:1]"
   ]
  },
  {
   "cell_type": "code",
   "execution_count": null,
   "metadata": {
    "collapsed": true
   },
   "outputs": [],
   "source": [
    "error = 0\n",
    "for index, row in x.iterrows():\n",
    "\n",
    "    value = calculate_rating(df,row['reviewerID'], row['asin'])\n",
    "    error += (value - row['overall'])**2\n",
    "    if index>2 :\n",
    "        break;\n",
    "    print(index)\n",
    "# Mean square error\n",
    "error = error/df.shape[0]\n",
    "# root mean square error\n",
    "print( math.sqrt(error) )"
   ]
  },
  {
   "cell_type": "code",
   "execution_count": null,
   "metadata": {
    "collapsed": true
   },
   "outputs": [],
   "source": []
  },
  {
   "cell_type": "code",
   "execution_count": null,
   "metadata": {
    "collapsed": true
   },
   "outputs": [],
   "source": []
  }
 ],
 "metadata": {
  "kernelspec": {
   "display_name": "Python 3",
   "language": "python",
   "name": "python3"
  },
  "language_info": {
   "codemirror_mode": {
    "name": "ipython",
    "version": 3
   },
   "file_extension": ".py",
   "mimetype": "text/x-python",
   "name": "python",
   "nbconvert_exporter": "python",
   "pygments_lexer": "ipython3",
   "version": "3.6.3"
  }
 },
 "nbformat": 4,
 "nbformat_minor": 2
}
